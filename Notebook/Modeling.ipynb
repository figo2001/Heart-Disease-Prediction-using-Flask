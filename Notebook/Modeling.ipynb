{
 "cells": [
  {
   "cell_type": "code",
   "execution_count": 1,
   "id": "5ac10658-f028-4d3e-b370-6c70afe6e25f",
   "metadata": {},
   "outputs": [],
   "source": [
    "import numpy as np\n",
    "import pandas as pd\n",
    "\n",
    "import matplotlib.pyplot as plt\n",
    "import seaborn as sn"
   ]
  },
  {
   "cell_type": "code",
   "execution_count": 2,
   "id": "7f773cbe-ff6f-4dc9-8bed-9abdf80f7e04",
   "metadata": {},
   "outputs": [],
   "source": [
    "df=pd.read_csv('datasets_4123_6408_framingham.csv')"
   ]
  },
  {
   "cell_type": "code",
   "execution_count": 3,
   "id": "8b7552e7-d444-41d7-92db-6328f19480b4",
   "metadata": {},
   "outputs": [
    {
     "data": {
      "text/html": [
       "<div>\n",
       "<style scoped>\n",
       "    .dataframe tbody tr th:only-of-type {\n",
       "        vertical-align: middle;\n",
       "    }\n",
       "\n",
       "    .dataframe tbody tr th {\n",
       "        vertical-align: top;\n",
       "    }\n",
       "\n",
       "    .dataframe thead th {\n",
       "        text-align: right;\n",
       "    }\n",
       "</style>\n",
       "<table border=\"1\" class=\"dataframe\">\n",
       "  <thead>\n",
       "    <tr style=\"text-align: right;\">\n",
       "      <th></th>\n",
       "      <th>male</th>\n",
       "      <th>age</th>\n",
       "      <th>education</th>\n",
       "      <th>currentSmoker</th>\n",
       "      <th>cigsPerDay</th>\n",
       "      <th>BPMeds</th>\n",
       "      <th>prevalentStroke</th>\n",
       "      <th>prevalentHyp</th>\n",
       "      <th>diabetes</th>\n",
       "      <th>totChol</th>\n",
       "      <th>sysBP</th>\n",
       "      <th>diaBP</th>\n",
       "      <th>BMI</th>\n",
       "      <th>heartRate</th>\n",
       "      <th>glucose</th>\n",
       "      <th>TenYearCHD</th>\n",
       "    </tr>\n",
       "  </thead>\n",
       "  <tbody>\n",
       "    <tr>\n",
       "      <th>0</th>\n",
       "      <td>1</td>\n",
       "      <td>39</td>\n",
       "      <td>4.0</td>\n",
       "      <td>0</td>\n",
       "      <td>0.0</td>\n",
       "      <td>0.0</td>\n",
       "      <td>0</td>\n",
       "      <td>0</td>\n",
       "      <td>0</td>\n",
       "      <td>195.0</td>\n",
       "      <td>106.0</td>\n",
       "      <td>70.0</td>\n",
       "      <td>26.97</td>\n",
       "      <td>80.0</td>\n",
       "      <td>77.0</td>\n",
       "      <td>0</td>\n",
       "    </tr>\n",
       "    <tr>\n",
       "      <th>1</th>\n",
       "      <td>0</td>\n",
       "      <td>46</td>\n",
       "      <td>2.0</td>\n",
       "      <td>0</td>\n",
       "      <td>0.0</td>\n",
       "      <td>0.0</td>\n",
       "      <td>0</td>\n",
       "      <td>0</td>\n",
       "      <td>0</td>\n",
       "      <td>250.0</td>\n",
       "      <td>121.0</td>\n",
       "      <td>81.0</td>\n",
       "      <td>28.73</td>\n",
       "      <td>95.0</td>\n",
       "      <td>76.0</td>\n",
       "      <td>0</td>\n",
       "    </tr>\n",
       "    <tr>\n",
       "      <th>2</th>\n",
       "      <td>1</td>\n",
       "      <td>48</td>\n",
       "      <td>1.0</td>\n",
       "      <td>1</td>\n",
       "      <td>20.0</td>\n",
       "      <td>0.0</td>\n",
       "      <td>0</td>\n",
       "      <td>0</td>\n",
       "      <td>0</td>\n",
       "      <td>245.0</td>\n",
       "      <td>127.5</td>\n",
       "      <td>80.0</td>\n",
       "      <td>25.34</td>\n",
       "      <td>75.0</td>\n",
       "      <td>70.0</td>\n",
       "      <td>0</td>\n",
       "    </tr>\n",
       "    <tr>\n",
       "      <th>3</th>\n",
       "      <td>0</td>\n",
       "      <td>61</td>\n",
       "      <td>3.0</td>\n",
       "      <td>1</td>\n",
       "      <td>30.0</td>\n",
       "      <td>0.0</td>\n",
       "      <td>0</td>\n",
       "      <td>1</td>\n",
       "      <td>0</td>\n",
       "      <td>225.0</td>\n",
       "      <td>150.0</td>\n",
       "      <td>95.0</td>\n",
       "      <td>28.58</td>\n",
       "      <td>65.0</td>\n",
       "      <td>103.0</td>\n",
       "      <td>1</td>\n",
       "    </tr>\n",
       "    <tr>\n",
       "      <th>4</th>\n",
       "      <td>0</td>\n",
       "      <td>46</td>\n",
       "      <td>3.0</td>\n",
       "      <td>1</td>\n",
       "      <td>23.0</td>\n",
       "      <td>0.0</td>\n",
       "      <td>0</td>\n",
       "      <td>0</td>\n",
       "      <td>0</td>\n",
       "      <td>285.0</td>\n",
       "      <td>130.0</td>\n",
       "      <td>84.0</td>\n",
       "      <td>23.10</td>\n",
       "      <td>85.0</td>\n",
       "      <td>85.0</td>\n",
       "      <td>0</td>\n",
       "    </tr>\n",
       "  </tbody>\n",
       "</table>\n",
       "</div>"
      ],
      "text/plain": [
       "   male  age  education  currentSmoker  cigsPerDay  BPMeds  prevalentStroke  \\\n",
       "0     1   39        4.0              0         0.0     0.0                0   \n",
       "1     0   46        2.0              0         0.0     0.0                0   \n",
       "2     1   48        1.0              1        20.0     0.0                0   \n",
       "3     0   61        3.0              1        30.0     0.0                0   \n",
       "4     0   46        3.0              1        23.0     0.0                0   \n",
       "\n",
       "   prevalentHyp  diabetes  totChol  sysBP  diaBP    BMI  heartRate  glucose  \\\n",
       "0             0         0    195.0  106.0   70.0  26.97       80.0     77.0   \n",
       "1             0         0    250.0  121.0   81.0  28.73       95.0     76.0   \n",
       "2             0         0    245.0  127.5   80.0  25.34       75.0     70.0   \n",
       "3             1         0    225.0  150.0   95.0  28.58       65.0    103.0   \n",
       "4             0         0    285.0  130.0   84.0  23.10       85.0     85.0   \n",
       "\n",
       "   TenYearCHD  \n",
       "0           0  \n",
       "1           0  \n",
       "2           0  \n",
       "3           1  \n",
       "4           0  "
      ]
     },
     "execution_count": 3,
     "metadata": {},
     "output_type": "execute_result"
    }
   ],
   "source": [
    "df.head()"
   ]
  },
  {
   "cell_type": "code",
   "execution_count": 4,
   "id": "b5d738a8-91af-49ca-832b-87e5959eb75d",
   "metadata": {},
   "outputs": [
    {
     "data": {
      "text/plain": [
       "(4240, 16)"
      ]
     },
     "execution_count": 4,
     "metadata": {},
     "output_type": "execute_result"
    }
   ],
   "source": [
    "df.shape"
   ]
  },
  {
   "cell_type": "code",
   "execution_count": 5,
   "id": "9d0c68de-e371-4a42-954e-953b7dd5fbd7",
   "metadata": {},
   "outputs": [
    {
     "name": "stdout",
     "output_type": "stream",
     "text": [
      "<class 'pandas.core.frame.DataFrame'>\n",
      "RangeIndex: 4240 entries, 0 to 4239\n",
      "Data columns (total 16 columns):\n",
      " #   Column           Non-Null Count  Dtype  \n",
      "---  ------           --------------  -----  \n",
      " 0   male             4240 non-null   int64  \n",
      " 1   age              4240 non-null   int64  \n",
      " 2   education        4135 non-null   float64\n",
      " 3   currentSmoker    4240 non-null   int64  \n",
      " 4   cigsPerDay       4211 non-null   float64\n",
      " 5   BPMeds           4187 non-null   float64\n",
      " 6   prevalentStroke  4240 non-null   int64  \n",
      " 7   prevalentHyp     4240 non-null   int64  \n",
      " 8   diabetes         4240 non-null   int64  \n",
      " 9   totChol          4190 non-null   float64\n",
      " 10  sysBP            4240 non-null   float64\n",
      " 11  diaBP            4240 non-null   float64\n",
      " 12  BMI              4221 non-null   float64\n",
      " 13  heartRate        4239 non-null   float64\n",
      " 14  glucose          3852 non-null   float64\n",
      " 15  TenYearCHD       4240 non-null   int64  \n",
      "dtypes: float64(9), int64(7)\n",
      "memory usage: 530.1 KB\n"
     ]
    }
   ],
   "source": [
    "df.info()"
   ]
  },
  {
   "cell_type": "markdown",
   "id": "a25e4b3c-afb3-401f-bf24-a165de3cd52c",
   "metadata": {},
   "source": [
    "### Dealing with Missing values"
   ]
  },
  {
   "cell_type": "code",
   "execution_count": 6,
   "id": "67dc253b-8d0e-4a44-a81e-69f8f5d22456",
   "metadata": {},
   "outputs": [
    {
     "data": {
      "text/plain": [
       "male                 0\n",
       "age                  0\n",
       "education          105\n",
       "currentSmoker        0\n",
       "cigsPerDay          29\n",
       "BPMeds              53\n",
       "prevalentStroke      0\n",
       "prevalentHyp         0\n",
       "diabetes             0\n",
       "totChol             50\n",
       "sysBP                0\n",
       "diaBP                0\n",
       "BMI                 19\n",
       "heartRate            1\n",
       "glucose            388\n",
       "TenYearCHD           0\n",
       "dtype: int64"
      ]
     },
     "execution_count": 6,
     "metadata": {},
     "output_type": "execute_result"
    }
   ],
   "source": [
    "df.isnull().sum()"
   ]
  },
  {
   "cell_type": "code",
   "execution_count": 7,
   "id": "8b86e3b8-c3ac-4d95-bbbd-83b0bb8cb4b0",
   "metadata": {},
   "outputs": [],
   "source": [
    "df.drop(columns=['education'], axis=1, inplace=True)"
   ]
  },
  {
   "cell_type": "code",
   "execution_count": 8,
   "id": "ca2d2c93-0312-4890-a8cf-548adf32ab9e",
   "metadata": {},
   "outputs": [
    {
     "data": {
      "text/plain": [
       "(4240, 15)"
      ]
     },
     "execution_count": 8,
     "metadata": {},
     "output_type": "execute_result"
    }
   ],
   "source": [
    "df.shape"
   ]
  },
  {
   "cell_type": "code",
   "execution_count": 9,
   "id": "548a4c08-755a-453e-8d9a-de36ce100510",
   "metadata": {},
   "outputs": [
    {
     "data": {
      "text/plain": [
       "male                 0\n",
       "age                  0\n",
       "currentSmoker        0\n",
       "cigsPerDay          29\n",
       "BPMeds              53\n",
       "prevalentStroke      0\n",
       "prevalentHyp         0\n",
       "diabetes             0\n",
       "totChol             50\n",
       "sysBP                0\n",
       "diaBP                0\n",
       "BMI                 19\n",
       "heartRate            1\n",
       "glucose            388\n",
       "TenYearCHD           0\n",
       "dtype: int64"
      ]
     },
     "execution_count": 9,
     "metadata": {},
     "output_type": "execute_result"
    }
   ],
   "source": [
    "df.isnull().sum()"
   ]
  },
  {
   "cell_type": "markdown",
   "id": "7777df4c-e78e-46d4-9a29-6d701dadbbe1",
   "metadata": {},
   "source": [
    "#### Define the binary columns"
   ]
  },
  {
   "cell_type": "code",
   "execution_count": 10,
   "id": "d95a0e2b-096f-452a-b11c-917ce04885ea",
   "metadata": {},
   "outputs": [
    {
     "data": {
      "text/plain": [
       "Index(['male', 'currentSmoker', 'BPMeds', 'prevalentStroke', 'prevalentHyp',\n",
       "       'diabetes', 'TenYearCHD'],\n",
       "      dtype='object')"
      ]
     },
     "execution_count": 10,
     "metadata": {},
     "output_type": "execute_result"
    }
   ],
   "source": [
    "df.columns[df.nunique()==2]"
   ]
  },
  {
   "cell_type": "code",
   "execution_count": 11,
   "id": "47fb4ef6-af5f-40cc-b6ea-63d95f89c658",
   "metadata": {},
   "outputs": [],
   "source": [
    "bin_cols=['male', 'currentSmoker', 'prevalentStroke', 'prevalentHyp','diabetes']"
   ]
  },
  {
   "cell_type": "markdown",
   "id": "2405a927-a221-4d24-a6e9-dcfd088d724b",
   "metadata": {},
   "source": [
    "#### a) Fill missing value for binary features with the most frequent value (mode)"
   ]
  },
  {
   "cell_type": "code",
   "execution_count": 12,
   "id": "139fb91d-538e-409c-853f-bb84ae112954",
   "metadata": {},
   "outputs": [],
   "source": [
    "for col in bin_cols:\n",
    "    mode_val=df[col].mode()[0]\n",
    "    df[col].fillna(mode_val, inplace=True)"
   ]
  },
  {
   "cell_type": "code",
   "execution_count": 13,
   "id": "9ef5d5c2-20c4-455a-99a0-8d0b5a7cb0ed",
   "metadata": {},
   "outputs": [
    {
     "data": {
      "text/plain": [
       "male                 0\n",
       "age                  0\n",
       "currentSmoker        0\n",
       "cigsPerDay          29\n",
       "BPMeds              53\n",
       "prevalentStroke      0\n",
       "prevalentHyp         0\n",
       "diabetes             0\n",
       "totChol             50\n",
       "sysBP                0\n",
       "diaBP                0\n",
       "BMI                 19\n",
       "heartRate            1\n",
       "glucose            388\n",
       "TenYearCHD           0\n",
       "dtype: int64"
      ]
     },
     "execution_count": 13,
     "metadata": {},
     "output_type": "execute_result"
    }
   ],
   "source": [
    "df.isnull().sum()"
   ]
  },
  {
   "cell_type": "markdown",
   "id": "291ad22f-b2cf-42f4-bd61-d9e2375508d5",
   "metadata": {},
   "source": [
    "#### b) Fill missing value for continues features with the median"
   ]
  },
  {
   "cell_type": "code",
   "execution_count": 14,
   "id": "7e544c6e-be90-42bd-9477-11b223156a54",
   "metadata": {},
   "outputs": [
    {
     "data": {
      "text/plain": [
       "Index(['age', 'cigsPerDay', 'totChol', 'sysBP', 'diaBP', 'BMI', 'heartRate',\n",
       "       'glucose'],\n",
       "      dtype='object')"
      ]
     },
     "execution_count": 14,
     "metadata": {},
     "output_type": "execute_result"
    }
   ],
   "source": [
    "df.columns[df.nunique()>2]"
   ]
  },
  {
   "cell_type": "code",
   "execution_count": 15,
   "id": "e353db36-0341-4d35-a24d-5ffd85786a06",
   "metadata": {},
   "outputs": [],
   "source": [
    "num_cols=['cigsPerDay', 'totChol', 'BPMeds', 'BMI', 'heartRate', 'glucose']"
   ]
  },
  {
   "cell_type": "code",
   "execution_count": 16,
   "id": "05926795-c9c8-4ec1-9ace-0c9c50a8a1b5",
   "metadata": {},
   "outputs": [],
   "source": [
    "for col in num_cols:\n",
    "    median_value=df[col].median()\n",
    "    df[col].fillna(median_value, inplace=True)"
   ]
  },
  {
   "cell_type": "code",
   "execution_count": 17,
   "id": "aeffea1c-67ce-4284-8d86-00762151ed36",
   "metadata": {},
   "outputs": [
    {
     "data": {
      "text/plain": [
       "male               0\n",
       "age                0\n",
       "currentSmoker      0\n",
       "cigsPerDay         0\n",
       "BPMeds             0\n",
       "prevalentStroke    0\n",
       "prevalentHyp       0\n",
       "diabetes           0\n",
       "totChol            0\n",
       "sysBP              0\n",
       "diaBP              0\n",
       "BMI                0\n",
       "heartRate          0\n",
       "glucose            0\n",
       "TenYearCHD         0\n",
       "dtype: int64"
      ]
     },
     "execution_count": 17,
     "metadata": {},
     "output_type": "execute_result"
    }
   ],
   "source": [
    "df.isnull().sum()"
   ]
  },
  {
   "cell_type": "markdown",
   "id": "67d10ac4-df3c-4c28-9eef-e629673208e2",
   "metadata": {},
   "source": [
    "----------------"
   ]
  },
  {
   "cell_type": "markdown",
   "id": "50d19138-a99a-4119-aad8-3279d0771cdf",
   "metadata": {},
   "source": [
    "### Balance the dataset"
   ]
  },
  {
   "cell_type": "code",
   "execution_count": 18,
   "id": "7e0579bd-93b7-4519-a26a-d8c4822299db",
   "metadata": {},
   "outputs": [
    {
     "data": {
      "text/plain": [
       "<Axes: xlabel='TenYearCHD'>"
      ]
     },
     "execution_count": 18,
     "metadata": {},
     "output_type": "execute_result"
    },
    {
     "data": {
      "image/png": "[encoded data removed]",
      "text/plain": [
       "<Figure size 640x480 with 1 Axes>"
      ]
     },
     "metadata": {},
     "output_type": "display_data"
    }
   ],
   "source": [
    "df['TenYearCHD'].value_counts().plot(kind='bar')"
   ]
  },
  {
   "cell_type": "markdown",
   "id": "c72def26-b02a-4440-b35f-0e2ef2ece38d",
   "metadata": {},
   "source": [
    "#### 1) As you can see our model is imbalanced here. So if we train this model by using this labeled column this will give us the biased results.\n",
    "\n",
    "#### 2) And for future predictions it will also gives us the result of 0."
   ]
  },
  {
   "cell_type": "markdown",
   "id": "d22063c5-7982-4371-a4fd-bda98af760d3",
   "metadata": {},
   "source": [
    "#### So we have to solve this issue in here."
   ]
  },
  {
   "cell_type": "code",
   "execution_count": 19,
   "id": "ff159b76-d793-415d-97e1-a836ef43a104",
   "metadata": {},
   "outputs": [],
   "source": [
    "from sklearn.utils import resample"
   ]
  },
  {
   "cell_type": "code",
   "execution_count": 20,
   "id": "e97ebf62-f17a-4147-b9c4-5d05bf9eb1f5",
   "metadata": {},
   "outputs": [],
   "source": [
    "# Separate majority and minority classes\n",
    "df_majority=df[df['TenYearCHD']==0]\n",
    "df_minority=df[df['TenYearCHD']==1]\n",
    "\n",
    "# Unsample minorty class\n",
    "df_minority_unsampled=resample(df_minority,\n",
    "                               replace=True, # Sample with replacemet\n",
    "                              n_samples=len(df_majority), # To match majority class\n",
    "                              random_state=42) # Reproducable results\n",
    "\n",
    "\n",
    "# Combine majority class with upsampled minority class\n",
    "df_balanced=pd.concat([df_majority, df_minority_unsampled])"
   ]
  },
  {
   "cell_type": "markdown",
   "id": "6b135081-a53e-41ea-965c-090dca1948fa",
   "metadata": {},
   "source": [
    "#### Now you can see we have equaly distributed columns"
   ]
  },
  {
   "cell_type": "code",
   "execution_count": 21,
   "id": "2c2061cd-c2d2-41ae-9823-2f596cbaaa41",
   "metadata": {},
   "outputs": [
    {
     "data": {
      "text/plain": [
       "TenYearCHD\n",
       "0    3596\n",
       "1    3596\n",
       "Name: count, dtype: int64"
      ]
     },
     "execution_count": 21,
     "metadata": {},
     "output_type": "execute_result"
    }
   ],
   "source": [
    "df_balanced['TenYearCHD'].value_counts()"
   ]
  },
  {
   "cell_type": "markdown",
   "id": "910c54b6-6c90-4221-8c6a-b1d5e60a5890",
   "metadata": {},
   "source": [
    "### Train Test Split"
   ]
  },
  {
   "cell_type": "code",
   "execution_count": 22,
   "id": "25b7b744-e8ac-4aff-b082-6934567283fd",
   "metadata": {},
   "outputs": [],
   "source": [
    "from sklearn.model_selection import train_test_split"
   ]
  },
  {
   "cell_type": "code",
   "execution_count": 23,
   "id": "3c072f38-cae1-41ac-96f2-eedb8935f671",
   "metadata": {},
   "outputs": [],
   "source": [
    "X=df_balanced.drop('TenYearCHD', axis=1)\n",
    "Y=df_balanced['TenYearCHD']"
   ]
  },
  {
   "cell_type": "code",
   "execution_count": 24,
   "id": "abac4874-39ba-4563-890b-71b96a7b12d8",
   "metadata": {},
   "outputs": [],
   "source": [
    "X_train,X_test,Y_train,Y_test=train_test_split(X,Y, test_size=0.2, random_state=101)"
   ]
  },
  {
   "cell_type": "code",
   "execution_count": 25,
   "id": "624b62b1-209c-44c4-a578-f577a5d26db5",
   "metadata": {},
   "outputs": [
    {
     "name": "stdout",
     "output_type": "stream",
     "text": [
      "(7192, 14) (5753, 14) (1439, 14)\n"
     ]
    }
   ],
   "source": [
    "print(X.shape,X_train.shape,X_test.shape)"
   ]
  },
  {
   "cell_type": "markdown",
   "id": "fd33ca07-46d5-4281-bc9a-9e67b3f024ab",
   "metadata": {},
   "source": [
    "### Scaling"
   ]
  },
  {
   "cell_type": "markdown",
   "id": "1c1edf3c-c5a9-464c-b290-f93d65fbb503",
   "metadata": {},
   "source": [
    "#### The another way of doing scaling is model will not give any importance of the larger values so we make the scaling where mean is 0 and std is 1."
   ]
  },
  {
   "cell_type": "code",
   "execution_count": 26,
   "id": "21bde9d8-0341-4225-98ed-e9516e4564d0",
   "metadata": {},
   "outputs": [],
   "source": [
    "from sklearn.preprocessing import StandardScaler"
   ]
  },
  {
   "cell_type": "code",
   "execution_count": 27,
   "id": "13e607a5-0d94-455e-87c3-3e5fe8432aad",
   "metadata": {},
   "outputs": [],
   "source": [
    "sc=StandardScaler()"
   ]
  },
  {
   "cell_type": "code",
   "execution_count": 28,
   "id": "d7dfa758-7ed1-4bdf-b82e-8bfdd4fa73c9",
   "metadata": {},
   "outputs": [],
   "source": [
    "X_train_scaled=sc.fit_transform(X_train)\n",
    "X_test_scaled=sc.transform(X_test)"
   ]
  },
  {
   "cell_type": "code",
   "execution_count": 29,
   "id": "c78667b4-e7dd-4f67-a020-9c64f1d88d82",
   "metadata": {
    "scrolled": true
   },
   "outputs": [
    {
     "data": {
      "text/plain": [
       "array([[-0.94534653,  1.11808982, -1.02232457, ..., -0.23377381,\n",
       "         0.98834923, -0.05364683],\n",
       "       [-0.94534653,  1.46628116, -1.02232457, ..., -0.07977247,\n",
       "        -0.75601814, -0.60258112],\n",
       "       [-0.94534653, -0.73893065,  0.97816293, ...,  0.02989516,\n",
       "        -0.5068228 , -0.63487137],\n",
       "       ...,\n",
       "       [ 1.05781317, -0.85499443, -1.02232457, ..., -0.3247746 ,\n",
       "         0.73915389, -0.2796786 ],\n",
       "       [-0.94534653, -1.55137711, -1.02232457, ..., -0.82411228,\n",
       "        -1.33747393, -0.89319339],\n",
       "       [ 1.05781317,  0.53777092,  0.97816293, ..., -0.63744399,\n",
       "         0.32382832, -0.44112986]])"
      ]
     },
     "execution_count": 29,
     "metadata": {},
     "output_type": "execute_result"
    }
   ],
   "source": [
    "X_train_scaled"
   ]
  },
  {
   "cell_type": "markdown",
   "id": "af18c8d3-c9b9-41eb-a831-35bd69f0be75",
   "metadata": {},
   "source": [
    "### Model Training"
   ]
  },
  {
   "cell_type": "markdown",
   "id": "67e56802-264b-4323-94b0-0c2593a5fad9",
   "metadata": {},
   "source": [
    "#### i) RandomForest Classifier"
   ]
  },
  {
   "cell_type": "code",
   "execution_count": 30,
   "id": "e2e75976-957e-45f5-88f7-8262993aab2b",
   "metadata": {},
   "outputs": [],
   "source": [
    "from sklearn.ensemble import RandomForestClassifier\n",
    "\n",
    "\n",
    "rf=RandomForestClassifier()\n",
    "rf.fit(X_train_scaled,Y_train)\n",
    "\n",
    "y_pred=rf.predict(X_test_scaled)"
   ]
  },
  {
   "cell_type": "code",
   "execution_count": 31,
   "id": "b1944b39-da63-48f3-a0c1-a861c925263a",
   "metadata": {},
   "outputs": [],
   "source": [
    "from sklearn.metrics import accuracy_score,confusion_matrix,classification_report"
   ]
  },
  {
   "cell_type": "markdown",
   "id": "13057606-8f09-4c11-980f-cffac570e3ea",
   "metadata": {},
   "source": [
    "#### Accuracy Score"
   ]
  },
  {
   "cell_type": "code",
   "execution_count": 32,
   "id": "d10af32d-751f-4cbb-8347-9540688d6e08",
   "metadata": {},
   "outputs": [
    {
     "data": {
      "text/plain": [
       "0.9687282835302293"
      ]
     },
     "execution_count": 32,
     "metadata": {},
     "output_type": "execute_result"
    }
   ],
   "source": [
    "accuracy_score(Y_test,y_pred)"
   ]
  },
  {
   "cell_type": "markdown",
   "id": "516abea9-adac-4276-ba5d-71db81c1e550",
   "metadata": {},
   "source": [
    "#### Confusion Matrix"
   ]
  },
  {
   "cell_type": "code",
   "execution_count": 33,
   "id": "97d06acc-bcde-4fa9-b28d-a99e31271cdb",
   "metadata": {},
   "outputs": [
    {
     "data": {
      "text/plain": [
       "array([[660,  36],\n",
       "       [  9, 734]], dtype=int64)"
      ]
     },
     "execution_count": 33,
     "metadata": {},
     "output_type": "execute_result"
    }
   ],
   "source": [
    "confusion_matrix(Y_test,y_pred)"
   ]
  },
  {
   "cell_type": "code",
   "execution_count": 34,
   "id": "ba0f831b-e58e-4523-9cea-be7207aa3aac",
   "metadata": {},
   "outputs": [
    {
     "name": "stdout",
     "output_type": "stream",
     "text": [
      "              precision    recall  f1-score   support\n",
      "\n",
      "           0       0.99      0.95      0.97       696\n",
      "           1       0.95      0.99      0.97       743\n",
      "\n",
      "    accuracy                           0.97      1439\n",
      "   macro avg       0.97      0.97      0.97      1439\n",
      "weighted avg       0.97      0.97      0.97      1439\n",
      "\n"
     ]
    }
   ],
   "source": [
    "print(classification_report(Y_test,y_pred))"
   ]
  },
  {
   "cell_type": "markdown",
   "id": "0563fcc6-851a-4757-a0f6-c5b8823aa1c3",
   "metadata": {},
   "source": [
    "#### Importing other models to compare the model performances"
   ]
  },
  {
   "cell_type": "code",
   "execution_count": 35,
   "id": "c41d5484-0d05-4aa6-92a6-7f86fdb1d794",
   "metadata": {},
   "outputs": [],
   "source": [
    "from sklearn.ensemble import RandomForestClassifier,AdaBoostClassifier,GradientBoostingClassifier\n",
    "from sklearn.linear_model import LogisticRegression\n",
    "from sklearn.svm import SVC\n",
    "from sklearn.neighbors import KNeighborsClassifier\n",
    "from sklearn.tree import DecisionTreeClassifier\n",
    "from sklearn.naive_bayes import GaussianNB\n",
    "\n",
    "from xgboost import XGBClassifier"
   ]
  },
  {
   "cell_type": "code",
   "execution_count": 36,
   "id": "93bfff4e-c6c6-4ad7-98df-6a79ac7b5592",
   "metadata": {},
   "outputs": [],
   "source": [
    "classifiers=[\n",
    "    RandomForestClassifier(),\n",
    "    AdaBoostClassifier(),\n",
    "    GradientBoostingClassifier(),\n",
    "    LogisticRegression(),\n",
    "    SVC(),\n",
    "    KNeighborsClassifier(),\n",
    "    DecisionTreeClassifier(),\n",
    "    GaussianNB(),\n",
    "    XGBClassifier()\n",
    "]"
   ]
  },
  {
   "cell_type": "markdown",
   "id": "37fe98b8-bda0-4355-bfe2-f6c647ebcbed",
   "metadata": {},
   "source": [
    "#### Create a dictonary to store the results"
   ]
  },
  {
   "cell_type": "code",
   "execution_count": 37,
   "id": "a13d1700-2e86-4b42-a1ed-babab713631d",
   "metadata": {},
   "outputs": [],
   "source": [
    "ressults={}"
   ]
  },
  {
   "cell_type": "markdown",
   "id": "3e6aa9d1-5b1b-473a-851f-af1dce687dfe",
   "metadata": {},
   "source": [
    "#### Train and evaluate each results"
   ]
  },
  {
   "cell_type": "code",
   "execution_count": 43,
   "id": "6380a362-f3fb-462b-9ec1-d2c668337736",
   "metadata": {
    "scrolled": true
   },
   "outputs": [
    {
     "name": "stdout",
     "output_type": "stream",
     "text": [
      "RandomForestClassifier\n",
      "*********************\n",
      "Accuracy is:  0.9722029186935371\n",
      "Classification Report is: \n",
      "              precision    recall  f1-score   support\n",
      "\n",
      "           0       0.99      0.95      0.97       696\n",
      "           1       0.95      0.99      0.97       743\n",
      "\n",
      "    accuracy                           0.97      1439\n",
      "   macro avg       0.97      0.97      0.97      1439\n",
      "weighted avg       0.97      0.97      0.97      1439\n",
      "\n",
      "Confusion Matrix is: \n",
      "[[661  35]\n",
      " [  5 738]]\n",
      "====================================================================================================\n"
     ]
    },
    {
     "name": "stderr",
     "output_type": "stream",
     "text": [
      "C:\\Users\\NILABJA\\AppData\\Local\\Programs\\Python\\Python311\\Lib\\site-packages\\sklearn\\ensemble\\_weight_boosting.py:519: FutureWarning: The SAMME.R algorithm (the default) is deprecated and will be removed in 1.6. Use the SAMME algorithm to circumvent this warning.\n",
      "  warnings.warn(\n"
     ]
    },
    {
     "name": "stdout",
     "output_type": "stream",
     "text": [
      "AdaBoostClassifier\n",
      "*********************\n",
      "Accuracy is:  0.6685198054204309\n",
      "Classification Report is: \n",
      "              precision    recall  f1-score   support\n",
      "\n",
      "           0       0.66      0.65      0.65       696\n",
      "           1       0.68      0.69      0.68       743\n",
      "\n",
      "    accuracy                           0.67      1439\n",
      "   macro avg       0.67      0.67      0.67      1439\n",
      "weighted avg       0.67      0.67      0.67      1439\n",
      "\n",
      "Confusion Matrix is: \n",
      "[[452 244]\n",
      " [233 510]]\n",
      "====================================================================================================\n",
      "GradientBoostingClassifier\n",
      "*********************\n",
      "Accuracy is:  0.7143849895760945\n",
      "Classification Report is: \n",
      "              precision    recall  f1-score   support\n",
      "\n",
      "           0       0.71      0.68      0.70       696\n",
      "           1       0.72      0.74      0.73       743\n",
      "\n",
      "    accuracy                           0.71      1439\n",
      "   macro avg       0.71      0.71      0.71      1439\n",
      "weighted avg       0.71      0.71      0.71      1439\n",
      "\n",
      "Confusion Matrix is: \n",
      "[[476 220]\n",
      " [191 552]]\n",
      "====================================================================================================\n",
      "LogisticRegression\n",
      "*********************\n",
      "Accuracy is:  0.6525364836692147\n",
      "Classification Report is: \n",
      "              precision    recall  f1-score   support\n",
      "\n",
      "           0       0.64      0.66      0.65       696\n",
      "           1       0.67      0.65      0.66       743\n",
      "\n",
      "    accuracy                           0.65      1439\n",
      "   macro avg       0.65      0.65      0.65      1439\n",
      "weighted avg       0.65      0.65      0.65      1439\n",
      "\n",
      "Confusion Matrix is: \n",
      "[[459 237]\n",
      " [263 480]]\n",
      "====================================================================================================\n",
      "SVC\n",
      "*********************\n",
      "Accuracy is:  0.7025712300208478\n",
      "Classification Report is: \n",
      "              precision    recall  f1-score   support\n",
      "\n",
      "           0       0.68      0.72      0.70       696\n",
      "           1       0.72      0.69      0.70       743\n",
      "\n",
      "    accuracy                           0.70      1439\n",
      "   macro avg       0.70      0.70      0.70      1439\n",
      "weighted avg       0.70      0.70      0.70      1439\n",
      "\n",
      "Confusion Matrix is: \n",
      "[[502 194]\n",
      " [234 509]]\n",
      "====================================================================================================\n",
      "KNeighborsClassifier\n",
      "*********************\n",
      "Accuracy is:  0.8019457956914524\n",
      "Classification Report is: \n",
      "              precision    recall  f1-score   support\n",
      "\n",
      "           0       0.89      0.68      0.77       696\n",
      "           1       0.75      0.92      0.83       743\n",
      "\n",
      "    accuracy                           0.80      1439\n",
      "   macro avg       0.82      0.80      0.80      1439\n",
      "weighted avg       0.82      0.80      0.80      1439\n",
      "\n",
      "Confusion Matrix is: \n",
      "[[471 225]\n",
      " [ 60 683]]\n",
      "====================================================================================================\n",
      "DecisionTreeClassifier\n",
      "*********************\n",
      "Accuracy is:  0.925642807505212\n",
      "Classification Report is: \n",
      "              precision    recall  f1-score   support\n",
      "\n",
      "           0       0.99      0.85      0.92       696\n",
      "           1       0.88      0.99      0.93       743\n",
      "\n",
      "    accuracy                           0.93      1439\n",
      "   macro avg       0.94      0.92      0.92      1439\n",
      "weighted avg       0.93      0.93      0.93      1439\n",
      "\n",
      "Confusion Matrix is: \n",
      "[[594 102]\n",
      " [  5 738]]\n",
      "====================================================================================================\n",
      "GaussianNB\n",
      "*********************\n",
      "Accuracy is:  0.56636553161918\n",
      "Classification Report is: \n",
      "              precision    recall  f1-score   support\n",
      "\n",
      "           0       0.53      0.89      0.66       696\n",
      "           1       0.72      0.27      0.39       743\n",
      "\n",
      "    accuracy                           0.57      1439\n",
      "   macro avg       0.62      0.58      0.53      1439\n",
      "weighted avg       0.63      0.57      0.52      1439\n",
      "\n",
      "Confusion Matrix is: \n",
      "[[618  78]\n",
      " [546 197]]\n",
      "====================================================================================================\n",
      "XGBClassifier\n",
      "*********************\n",
      "Accuracy is:  0.9124391938846421\n",
      "Classification Report is: \n",
      "              precision    recall  f1-score   support\n",
      "\n",
      "           0       0.96      0.86      0.90       696\n",
      "           1       0.88      0.96      0.92       743\n",
      "\n",
      "    accuracy                           0.91      1439\n",
      "   macro avg       0.92      0.91      0.91      1439\n",
      "weighted avg       0.92      0.91      0.91      1439\n",
      "\n",
      "Confusion Matrix is: \n",
      "[[597  99]\n",
      " [ 27 716]]\n",
      "====================================================================================================\n"
     ]
    }
   ],
   "source": [
    "for clf in classifiers:\n",
    "    clf_name=clf.__class__.__name__\n",
    "    clf.fit(X_train_scaled, Y_train)\n",
    "    y_pred=clf.predict(X_test_scaled)\n",
    "\n",
    "    print(clf_name)\n",
    "    print(\"*********************\")\n",
    "        \n",
    "    # Calculating Accuracy\n",
    "    accuracy=accuracy_score(Y_test,y_pred)\n",
    "    print(\"Accuracy is: \",accuracy)\n",
    "\n",
    "    # Classification Report\n",
    "    report=classification_report(Y_test,y_pred)\n",
    "    print(\"Classification Report is: \")\n",
    "    print(report)\n",
    "\n",
    "    # Confusion Matrix\n",
    "    mat=confusion_matrix(Y_test,y_pred)\n",
    "    print(\"Confusion Matrix is: \")\n",
    "    print(mat)\n",
    "\n",
    "    print(\"=\"*100)"
   ]
  },
  {
   "cell_type": "markdown",
   "id": "d0430e40-b3f7-49ad-b490-3b67174ec30c",
   "metadata": {},
   "source": [
    "## Selecting our best model as RandomForest Classifier"
   ]
  },
  {
   "cell_type": "code",
   "execution_count": 51,
   "id": "391b00c5-107c-4d1a-bd2c-839eb38ffef5",
   "metadata": {},
   "outputs": [
    {
     "name": "stdout",
     "output_type": "stream",
     "text": [
      "Random Forest Classifier Accuracy: 0.9742876997915219\n",
      "Classification Report for Random Forest Classifier:\n",
      "              precision    recall  f1-score   support\n",
      "\n",
      "           0       0.99      0.95      0.97       696\n",
      "           1       0.96      0.99      0.98       743\n",
      "\n",
      "    accuracy                           0.97      1439\n",
      "   macro avg       0.98      0.97      0.97      1439\n",
      "weighted avg       0.97      0.97      0.97      1439\n",
      "\n",
      "Confusion Matrix for Random Forest Classifier:\n",
      "[[664  32]\n",
      " [  5 738]]\n"
     ]
    }
   ],
   "source": [
    "# Instantiate the RandomForestClassifier\n",
    "rf_classifier = RandomForestClassifier()\n",
    "\n",
    "# Train the RandomForestClassifier\n",
    "rf_classifier.fit(X_train_scaled, Y_train)\n",
    "\n",
    "# Predict on the test set\n",
    "y_pred_rf = rf_classifier.predict(X_test_scaled)\n",
    "\n",
    "# Calculate accuracy\n",
    "accuracy_rf = accuracy_score(Y_test, y_pred_rf)\n",
    "print(\"Random Forest Classifier Accuracy:\", accuracy_rf)\n",
    "\n",
    "# Classification report\n",
    "print(\"Classification Report for Random Forest Classifier:\")\n",
    "print(classification_report(Y_test, y_pred_rf))\n",
    "\n",
    "# Confusion matrix\n",
    "print(\"Confusion Matrix for Random Forest Classifier:\")\n",
    "print(confusion_matrix(Y_test, y_pred_rf))"
   ]
  },
  {
   "cell_type": "markdown",
   "id": "dabceaea-a54f-46ef-b167-286fe92dac94",
   "metadata": {},
   "source": [
    "## Prediction"
   ]
  },
  {
   "cell_type": "markdown",
   "id": "cef000b8-59f0-4273-aef4-18a4b8635d72",
   "metadata": {},
   "source": [
    "#### Predicted Class"
   ]
  },
  {
   "cell_type": "code",
   "execution_count": 55,
   "id": "46b030e7-c48e-49e6-a994-28ab46e3b97f",
   "metadata": {},
   "outputs": [
    {
     "data": {
      "text/plain": [
       "0"
      ]
     },
     "execution_count": 55,
     "metadata": {},
     "output_type": "execute_result"
    }
   ],
   "source": [
    "rf_classifier.predict(X_test_scaled[10].reshape(1,-1))[0]"
   ]
  },
  {
   "cell_type": "markdown",
   "id": "16d9b5a3-072a-4a7d-bb47-bb126aefe455",
   "metadata": {},
   "source": [
    "#### Actual Class"
   ]
  },
  {
   "cell_type": "code",
   "execution_count": 56,
   "id": "45855335-537f-4d01-9277-5c00bba680b7",
   "metadata": {},
   "outputs": [
    {
     "data": {
      "text/plain": [
       "0"
      ]
     },
     "execution_count": 56,
     "metadata": {},
     "output_type": "execute_result"
    }
   ],
   "source": [
    "Y_test.iloc[10]"
   ]
  },
  {
   "cell_type": "markdown",
   "id": "05ca890d-e7e3-4d2b-b1eb-c61f7e7361eb",
   "metadata": {},
   "source": [
    "## Saving the models"
   ]
  },
  {
   "cell_type": "code",
   "execution_count": 57,
   "id": "d8c4b8d4-609e-4667-bc79-ed3ea43e13da",
   "metadata": {},
   "outputs": [],
   "source": [
    "import pickle\n",
    "\n",
    "pickle.dump(rf_classifier,open(\"rf_classifier.pkl\", 'wb'))\n",
    "pickle.dump(sc,open(\"sc.pkl\", 'wb'))"
   ]
  },
  {
   "cell_type": "markdown",
   "id": "23439772-17a7-4a1c-85aa-353c5f953d6a",
   "metadata": {},
   "source": [
    "## Prediction Function"
   ]
  },
  {
   "cell_type": "code",
   "execution_count": 61,
   "id": "464b983c-47d7-4c5a-886b-29435c23d7f8",
   "metadata": {},
   "outputs": [],
   "source": [
    "def predict(rf_classifier, sc, male, age, currentSmoker, cigsPerDay, BPMeds, prevalentStroke, prevalentHyp, diabetes, totChol, sysBP, diaBP, BMI, heartRate, glucose):\n",
    "    # Encode Categorical variables\n",
    "    male_encoded = 1 if male.lower() == \"male\" else 0\n",
    "    currentSmoker_encoded = 1 if currentSmoker.lower() == \"yes\" else 0\n",
    "    BPMeds_encoded = 1 if BPMeds.lower() == \"yes\" else 0\n",
    "    prevalentStroke_encoded = 1 if prevalentStroke.lower() == \"yes\" else 0\n",
    "    prevalentHyp_encoded = 1 if prevalentHyp.lower() == \"yes\" else 0\n",
    "    diabetes_encoded = 1 if diabetes.lower() == \"yes\" else 0\n",
    "\n",
    "    # Prepare features array\n",
    "    features=np.array([[male_encoded, age, currentSmoker_encoded, cigsPerDay, BPMeds_encoded, prevalentStroke_encoded, prevalentHyp_encoded, diabetes_encoded, totChol, sysBP, diaBP, BMI, heartRate, glucose]])\n",
    "\n",
    "    # Scaling\n",
    "    scaled_features=sc.transform(features)\n",
    "\n",
    "    # Predict by model\n",
    "    result=rf_classifier.predict(scaled_features)\n",
    "\n",
    "    return result[0]\n",
    "    "
   ]
  },
  {
   "cell_type": "markdown",
   "id": "28d07742-a81b-40fd-a141-290702796363",
   "metadata": {},
   "source": [
    "### Test case 1"
   ]
  },
  {
   "cell_type": "code",
   "execution_count": 64,
   "id": "f14caef8-35b2-4d70-a300-35b5c66735fa",
   "metadata": {},
   "outputs": [
    {
     "name": "stdout",
     "output_type": "stream",
     "text": [
      "The Patiennt has No Heart Disease\n"
     ]
    },
    {
     "name": "stderr",
     "output_type": "stream",
     "text": [
      "C:\\Users\\NILABJA\\AppData\\Local\\Programs\\Python\\Python311\\Lib\\site-packages\\sklearn\\base.py:493: UserWarning: X does not have valid feature names, but StandardScaler was fitted with feature names\n",
      "  warnings.warn(\n"
     ]
    }
   ],
   "source": [
    "male = \"female\"\n",
    "age = 56.00\n",
    "currentSmoker = \"yes\"\n",
    "cigsPerDay = 3.00\n",
    "BPMeds = \"no\"\n",
    "prevalentStroke = \"no\"\n",
    "prevalentHyp = \"yes\"\n",
    "diabetes = 'no'\n",
    "totChol = 285.00\n",
    "sysBP = 145.00\n",
    "diaBP = 100.00\n",
    "BMI = 30.14\n",
    "heartRate = 80.00\n",
    "glucose = 86.00\n",
    "\n",
    "\n",
    "result = predict(rf_classifier, sc, male, age, currentSmoker, cigsPerDay, BPMeds, prevalentStroke, prevalentHyp, diabetes, totChol, sysBP, diaBP, BMI, heartRate, glucose)\n",
    "\n",
    "\n",
    "if result == 1:\n",
    "    print(\"The Patient has Heart Disease\")\n",
    "else: \n",
    "    print(\"The Patiennt has No Heart Disease\")"
   ]
  },
  {
   "cell_type": "markdown",
   "id": "2071d8c7-8eb8-44f3-a266-5bb7be8689d4",
   "metadata": {},
   "source": [
    "### Test case 2"
   ]
  },
  {
   "cell_type": "code",
   "execution_count": 65,
   "id": "3f748b08-79f3-4b16-842a-5b5f0500c956",
   "metadata": {},
   "outputs": [
    {
     "name": "stdout",
     "output_type": "stream",
     "text": [
      "The Patient has Heart Disease\n"
     ]
    },
    {
     "name": "stderr",
     "output_type": "stream",
     "text": [
      "C:\\Users\\NILABJA\\AppData\\Local\\Programs\\Python\\Python311\\Lib\\site-packages\\sklearn\\base.py:493: UserWarning: X does not have valid feature names, but StandardScaler was fitted with feature names\n",
      "  warnings.warn(\n"
     ]
    }
   ],
   "source": [
    "male = 'female'\n",
    "age = 63.0\n",
    "currentSmoker = 'yes'\n",
    "cigsPerDay = 3.0\n",
    "BPMeds = 'no'\n",
    "prevalentStroke = 'no'\n",
    "prevalentHyp = 'yes'\n",
    "diabetes = 'no'\n",
    "totChol = 267.0\n",
    "sysBP = 156.5\n",
    "diaBP = 92.5\n",
    "BMI = 27.1\n",
    "heartRate = 60.0\n",
    "glucose = 79.0\n",
    "result = 1.0\n",
    "\n",
    "result = predict(rf_classifier, sc, male, age, currentSmoker, cigsPerDay, BPMeds, prevalentStroke, prevalentHyp, diabetes, totChol, sysBP, diaBP, BMI, heartRate, glucose)\n",
    "\n",
    "\n",
    "if result == 1:\n",
    "    print(\"The Patient has Heart Disease\")\n",
    "else: \n",
    "    print(\"The Patiennt has No Heart Disease\")"
   ]
  },
  {
   "cell_type": "code",
   "execution_count": null,
   "id": "90de462e-2b16-49ea-98d9-71cbf49888f4",
   "metadata": {},
   "outputs": [],
   "source": []
  }
 ],
 "metadata": {
  "kernelspec": {
   "display_name": "Python 3 (ipykernel)",
   "language": "python",
   "name": "python3"
  },
  "language_info": {
   "codemirror_mode": {
    "name": "ipython",
    "version": 3
   },
   "file_extension": ".py",
   "mimetype": "text/x-python",
   "name": "python",
   "nbconvert_exporter": "python",
   "pygments_lexer": "ipython3",
   "version": "3.11.5"
  }
 },
 "nbformat": 4,
 "nbformat_minor": 5
}
